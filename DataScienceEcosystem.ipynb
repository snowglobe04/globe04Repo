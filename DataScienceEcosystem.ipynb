{
 "cells": [
  {
   "cell_type": "markdown",
   "id": "bf9bcb2c-b3a0-4f7c-a917-487b9c77f88a",
   "metadata": {},
   "source": [
    "<h1>Data Science Tools and Ecosystem</h1>"
   ]
  },
  {
   "cell_type": "markdown",
   "id": "25139975-52de-4cd4-aa51-b461a7a6cdef",
   "metadata": {},
   "source": [
    "In this notebook, Data Science Tools and Ecosystem are summarized.\n"
   ]
  },
  {
   "cell_type": "markdown",
   "id": "47a59984-04b9-49e4-bfb9-cd36aee6cae4",
   "metadata": {},
   "source": [
    "Some of the popular languages that Data Scientists use are: \n",
    "\n",
    "    * Python \n",
    "    * R \n",
    "    * SQL"
   ]
  },
  {
   "cell_type": "markdown",
   "id": "ee158651-3b2c-47c5-bafb-05c20da23a9a",
   "metadata": {},
   "source": [
    "Some of the commonly used libraries used by Data Scientists include:"
   ]
  },
  {
   "cell_type": "markdown",
   "id": "dc57e930-9a23-471e-a288-20d0db8ccfb0",
   "metadata": {},
   "source": [
    "    * NumPy \n",
    "    * Pandas\n",
    "    * Matplotlib\n",
    "    * Seaborn"
   ]
  },
  {
   "cell_type": "markdown",
   "id": "12d23dff-261a-4231-8218-de10974381f6",
   "metadata": {},
   "source": [
    "| Data Science Tools |\n",
    "| ------------------ |\n",
    "| Jupyter Notebook   |\n",
    "| RStudio            |\n",
    "| Apache Spark       |"
   ]
  },
  {
   "cell_type": "markdown",
   "id": "bea428a1-99a1-45a8-a387-12b9ce778c87",
   "metadata": {},
   "source": [
    "<h3>Below are a few examples of evaluating arithmetic expressions in Python.</h3>\n"
   ]
  },
  {
   "cell_type": "markdown",
   "id": "2e130d5a-05ac-4354-b7a7-d7c9ea8cd214",
   "metadata": {},
   "source": [
    "This a simple arithmetic expression to mutiply then add integers.\n"
   ]
  },
  {
   "cell_type": "code",
   "execution_count": 15,
   "id": "f32e286d-7bc7-4c94-b57c-17a5b74b6b37",
   "metadata": {},
   "outputs": [
    {
     "name": "stdout",
     "output_type": "stream",
     "text": [
      "(3*4) + 5 = 17\n"
     ]
    }
   ],
   "source": [
    "result = (3*4)+5\n",
    "print(f\"(3*4) + 5 = {result}\")"
   ]
  },
  {
   "cell_type": "markdown",
   "id": "5610a95e-595f-44bf-b081-c809d1f65386",
   "metadata": {},
   "source": [
    "This will convert 200 minutes to hours by diving by 60.\n"
   ]
  },
  {
   "cell_type": "code",
   "execution_count": 16,
   "id": "67e5414b-4da5-479a-8d0c-4e677003aab6",
   "metadata": {},
   "outputs": [
    {
     "name": "stdout",
     "output_type": "stream",
     "text": [
      "200 minutes = 3.3333333333333335 hours\n"
     ]
    }
   ],
   "source": [
    "minutes = 200\n",
    "hours = minutes / 60\n",
    "print(f\"{minutes} minutes = {hours} hours\")"
   ]
  },
  {
   "cell_type": "markdown",
   "id": "d49de5d3-193b-4140-8c97-4cdcd284b769",
   "metadata": {},
   "source": [
    "<b>Objectives</b>"
   ]
  },
  {
   "cell_type": "markdown",
   "id": "a8f4063b-0624-4789-a385-cc1da3cab875",
   "metadata": {},
   "source": [
    "* List popular languages for Data Science\n",
    "* List Data Science Tools\n",
    "* Run an Arithmetic Expression\n",
    "* Convert minutes to hours"
   ]
  },
  {
   "cell_type": "markdown",
   "id": "793404c2-1960-4444-8881-292eed7cc0cf",
   "metadata": {},
   "source": [
    "<h2>Jennifer Miller</h2>"
   ]
  },
  {
   "cell_type": "code",
   "execution_count": null,
   "id": "623d8a24-7be4-4295-8b3e-9ae6070820a2",
   "metadata": {},
   "outputs": [],
   "source": []
  }
 ],
 "metadata": {
  "kernelspec": {
   "display_name": "Python 3",
   "language": "python",
   "name": "python3"
  },
  "language_info": {
   "codemirror_mode": {
    "name": "ipython",
    "version": 3
   },
   "file_extension": ".py",
   "mimetype": "text/x-python",
   "name": "python",
   "nbconvert_exporter": "python",
   "pygments_lexer": "ipython3",
   "version": "3.12.7"
  }
 },
 "nbformat": 4,
 "nbformat_minor": 5
}
